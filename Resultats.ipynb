{
  "cells": [
    {
      "cell_type": "markdown",
      "source": [
        "Ce fichier à pour but d'inventer des résultats crédibles pour le cour de démarche scientifique du Master en Biogéosciences 2023.\n",
        "\n",
        "Ce code analyse les résultats dans la foulée.\n",
        "\n",
        "Ce code n'a pas vocation à être réutilisé"
      ],
      "metadata": {
        "id": "pIh-DRCDDAou"
      }
    },
    {
      "cell_type": "markdown",
      "metadata": {
        "id": "8jZrdDEpSRnu"
      },
      "source": [
        "Tentative de génération de résultats"
      ]
    },
    {
      "cell_type": "code",
      "execution_count": null,
      "metadata": {
        "colab": {
          "base_uri": "https://localhost:8080/"
        },
        "id": "oQorXC7xWDrR",
        "outputId": "6e5828a0-26e9-40c5-d2b8-cd4d0c530bd1"
      },
      "outputs": [
        {
          "output_type": "stream",
          "name": "stdout",
          "text": [
            "Collecting biopython\n",
            "  Downloading biopython-1.81-cp310-cp310-manylinux_2_17_x86_64.manylinux2014_x86_64.whl (3.1 MB)\n",
            "\u001b[2K     \u001b[90m━━━━━━━━━━━━━━━━━━━━━━━━━━━━━━━━━━━━━━━━\u001b[0m \u001b[32m3.1/3.1 MB\u001b[0m \u001b[31m11.4 MB/s\u001b[0m eta \u001b[36m0:00:00\u001b[0m\n",
            "\u001b[?25hRequirement already satisfied: numpy in /usr/local/lib/python3.10/dist-packages (from biopython) (1.23.5)\n",
            "Installing collected packages: biopython\n",
            "Successfully installed biopython-1.81\n"
          ]
        }
      ],
      "source": [
        "# Cellule pour installer les modules requis dans google lab\n",
        "# Attention cela n'importe pas le module dans le fichier\n",
        "!pip install biopython"
      ]
    },
    {
      "cell_type": "markdown",
      "metadata": {
        "id": "GCJsLNsOYzfV"
      },
      "source": [
        "Test de génération de données crédibles avec biopython\n",
        "\n",
        "On utilise le format FASTA qui est un format assez simple à utiliser et assez pratique pour la biologie"
      ]
    },
    {
      "cell_type": "code",
      "execution_count": null,
      "metadata": {
        "id": "Zq8GePtPM89Y"
      },
      "outputs": [],
      "source": [
        "import numpy as np\n",
        "import matplotlib.pyplot as plt\n",
        "import pandas as pd\n",
        "\n",
        "from Bio import SeqIO\n",
        "from Bio import Entrez\n",
        "from Bio.SeqRecord import SeqRecord\n",
        "from Bio.Seq import Seq\n",
        "\n",
        "from openpyxl import Workbook\n",
        "from openpyxl.utils.dataframe import dataframe_to_rows\n",
        "\n",
        "\n",
        "import random\n",
        "from random import sample\n",
        "\n",
        "from scipy.cluster.hierarchy import linkage, fcluster, dendrogram\n",
        "\n",
        "# Remplacez par votre adresse email. Cela est nécessaire pour accéder aux données GenBank.\n",
        "Entrez.email = \"uneadresseemailrandom@gmail.com\"\n"
      ]
    },
    {
      "cell_type": "code",
      "execution_count": null,
      "metadata": {
        "id": "S9vQTD9dSKtu",
        "colab": {
          "base_uri": "https://localhost:8080/"
        },
        "outputId": "c2c0794f-4d9e-4932-a9ec-5576dccc7ab6"
      },
      "outputs": [
        {
          "output_type": "stream",
          "name": "stdout",
          "text": [
            "Fichier FASTA généré avec succès: \n",
            "\n",
            "ID: NR_025230.1\n",
            "Description: NR_025230.1 Megasphaera micronuciformis strain AIP 412.00 16S ribosomal RNA, partial sequence\n",
            "Sequence: GAAAGCTTGCTTTTTCTACAATCTAGTGGCAAACGGGTGAGTAACGCGTAAACAACCTGCCCTACGGATGGGGACAACAGCTGGAAACGGCTGCTAATACCGAATACGTTCCGAAAGTCGCATGACTGTCGGAAGAAAGGATGGCCTCTATTTATAAGCTATCGCCGGAGGAGGGGTTTGCGTCTGATTAGCTAGTTGGAGGGGTAACGGCCCACCAAGGCGACGATCAGTAGCCGGTCTGAGAGGATGAACGGCCACATTGGAACTGAGACACGGTCCAGACTCCTACGGGAGGCAGCAGTGGGGAATCTTCCGCAATGGGCGAAAGCCTGACGGAGCAACGCCGCGTGAGTGAAGACGGCCTTCGGGTTGTAAAGCTCTGTTATACGGGACGAATAATCTTGTGGTTAATACCCATAAGAAGTGACGGTACCGTAAGAGAAAGCCACGGCTAACTACGTGCCAGCAGCCGCGGTAATACGTAGGTGGCAAGCGTTGTCCGGAATTATTGGGCGTAAAGGGCGCGCAGGCGGCTTCTTAAGTCTGTCTTAAAAGTGCGGGGCTTAACCCCGTGATGGGATGGAAACTGGGAAGCTCAGAGTATCGGAGAGGAAAGCGGAATTCCTAGTGTAGCGGTGAAATGCGTAGATATTAGGAGGAACACCAGTGGCGAAAGCGGCTTTTCTGGACGAAAACTGACGCTGAGGCGCGAAAGCCAGGGGAGCGAACGGGATTAGATACCCCGGTAGTCCTGGCCGTAAACGATGGGTACTAGGTGTAGGAGGTATCGACCCCTTCTGTGCCGGAGTTAACGCAATAAGTACCCCGCCTGGGGAGTACGGCCGCAAGGTTGAAACTCAAAGGAATTGACGGGGGCCCGCACAAGCGGTGGAGTATGTGGTTTAATTCGACGCAACGCGAAGAACCTTACCAAGCCTTGACATTGATCGCAAGGAGTAGAGATACTCTGTTCTTCTTCGGAAGACGAGAAAACAGGTGGTGCACGGCTGTCGTCAGCTCGTGTCGTGAGATGTTGGGTTAAGTCCCGCAACGAGCGCAACCCCTATCTTCTGTTACCAGCACGTAAAGGTGGGGACTCAGGAGAGACTGCCGCAGACAATGCGGAGGAAGGCGGGGATGACGTCAAGTCATCATGCCCCTTATGGCTTGGGCTACACACGTACTACAATGGCTCTTAATAGAGGGAAGCGAAGGAGCGATCCGGAGCAAACCCCAAAAACAGAGTCTCAGTTCGGATTGTAGGCTGCAACTCGCCTACATGAAGCAGGAATCGCTAGTAATCGCAGGTCAGCATACTGCGGTGAATACGTTCCCGGGCCTTGTACACACCGCCCGTCACACCACGAAAGTCATTCACACCCGAAGCCGGTGAGGTAACCGCAAGGAGCCA\n",
            "\n",
            "ID: NR_041801.1\n",
            "Description: NR_041801.1 Methanofollis aquaemaris strain N2F9704 16S ribosomal RNA, partial sequence\n",
            "Sequence: AAACTGGGGATAATACCTCATAATCTACAGGTGCTGGAATGCTCTGTAGGTCAAAGGTCAGCCGCCTTAGGATGGGTCTGCGGCCGATTAGGTAGTTGTTGGGGTAATGGCCCAACAAGCCTGTAATCGGTACGGGTTGTGGGAGCAAGAGCCCGGAAATGGATTCTGAGACACGAATCCAGGCCCTACGGGGCGCAGCAGGCGCGGAAACTTTACAATGCAGGAAACTGTGATAAGGGAACCCCGAGTGCCCGTATGGACGGGCTGTTCAGGTGCTTAAAAAACATCTGGAGAAAGGGCCGGGCAAGACCGGTGCCAGCCGCCGCGGTAATACCGGCGGCTCGAGTGGTGGCCACTATTATTGGGCTTAAAGCGTCCGTAGCTTGGTAGTTAAGTCTCTTGGGAAATCTTCCGGCTTAACCGGAAGGCGTCTAAGGGATACTGGCTGCCTAGGGATCGGGAAAAGTGAAAGGTACTCTGGGGGTAGGAGTGAAATCCTGTAATCCTCAGGGGACCACCTGTGGCGAAGGGGTCTCACCAGAACGACTCCGACGGTGAGGGACGNAAGCTGGGGGAGCAAACCGGATTAGATACCCGGGTAGTCCCAGCCGTAAATGATGCGCGTTAGGTGTATCGGTGACCACGAGTTACCGAGGTGCCGAAGGGAAACCGTGAAACGCGCCGCTTGGGAAGTACGGTCGCAAGGCTGAAACTTAAAGGAATTGGCGGGGGAGCACCACAACGGGTGGAGCCTGCGGTTTAATTGGACTCAACGCCGGACAGCTCACCGGGTAGGACAGCGATATGATGGCCGGGCTGAAGACCCTGCTTGATCAGCTGAGAGGAGGTGCATGGCCGTCGTCAGTTCGTACTGTGAAGCATCCTGTTAAGTCAGGCAACGAGCGAGACCCACGCCAACAGTTGCCAGCATGTTCTCCGGAACGATGGGGACACTGTTGGGACCGCCTCTGCTAAAGAGGAGGAAGGAATGGGCAACGGTAGGTCAGCATGCCCCGAATTACCCGGGCTACACGCGGGCTACAATGGTCAGGACAATGGGTTCCGACACCGAGAGGTGAAGGCAATCCCCTAAACCTGCCCTTAGTTCGGATTGTGGGCTGCAACTCGCCCACATGAAGCTGGAATCCGTAGTAATCGCGTTTCAAGATAGCGCGGTGAATCTGTCCCTGCTCCTTGCACACACCGCCCGTCAAACCACCCGAGTGGGGTTTGGATGAGGCTGTGGTCGTTGCCACAGTCGAATCTAGGTTCCGCAAGGGGGGTT\n",
            "\n",
            "ID: NR_026150.1\n",
            "Description: NR_026150.1 Anaerotignum neopropionicum strain DSM 3847 16S ribosomal RNA, partial sequence\n",
            "Sequence: GAGTTTGATCCTGGCTCAGGATGAACGCTGGCGGCGTGCTTAACACATGCAAGTCGAGCAGGAGTATGAAATCTGAGAGCTTCGGCAGGATGATTTCATATTTTAGCGGCGGACGGGTGAGTAACGTGTGGGCAACCTGCCCTGTACTGTGGAATAATCACTGGAAACGGTGACTAATACCGCATGTCATCCGAAGAGGGCATCCTCTTTGGAGANNAGGATTTATTCGGTACAGGATGGGCCCGCATCTGATTAGCTAGTTGGTGAGATAACAGCTCACCAAGGCAACGATCAGTAGCCGACCTGAGAGGGTGATCGGCCACATTGGGACTGAGACACGGCCCAAACTCCTACGGGAGGCAGCAGTGGGGAATATTGCACAATGGGCGAAAGCCTGATGCAGCAACGCCGCGTGAAGGATGAAGGGTTTCGGCTCGTAAACTTCTATCAACAGGGACGAAAAAAATGACGTACCTGATAAAGAAGCCCCGGCTAACTACGTGCCAGCAGCCGCGGTAATACGTAGGGGGCAAGCGTTATCCGGAATTACTGGGTGTAAAGGGAGAGTAGGCGGCATGGTAAGTTAGATGTGAAAGCCCGAGGCTTAACCTCGGGATTGCATTTAAAACTATCAAGCTAGAGTACAGGAGAGGTAAGTGGAATTCCTAGTGTAGCGGTGAAATGCGTAGATATTAGGAAGAACACCAGTGGCGAAGGCGACTTACTGGACTGAAACTGACGCTGAGGCTCGAAAGCGTGGGGAGCGAACAGGATTAGATACCCTGGTAGTCCACGCCGTAAACGATGAGTGCTAGGTGTAGGGGGGGAACCCTCGGTGCCGCAGTAACGCAATAAGCACTCCACCTGGGGAGTACGATCGCAAGATTGAAACTCAAAGGAATTGACGGGGGCCGCACAAGCGGTGGAGCATGTGGTTTAATTCGAAGCAACGCGAAGAACCTTACCAAGGCTTGACATCCCTCTGACCGGTGTAGAGATACACCTTCTCTTCGGAGCAGGGGTGACAGGTGGTGCATGGTTGTCGTCAGCTCGTGTCATGTTAGGTTAAGTCCCGCAACGAGCGCAACCCTTATCCTTAGTAGCCATCATTCAGTTGGGCACTCTAGGGAGACTGCCGTGGATAACACGGAGGAAGGTGGGGATGACGTCAAATCATCATGCCCCTTATGTCTTGGGCTACACACGTGCTACAATGGCTGGTAACAAAGTGACGCAAAACGGCGACGTCGAGCAAATCACAAAAACCCAGTCCCAGTTCGGATTGTAGTCTGCAACTCGACTACATGAAGCTGGAATCGCTAGTAATCGCGAATCAGAAGTCGCGGTGAATACGTTCCCGGGCCTTGTACACACCGCCCGTCACACCATGGGAGTTGGAAGCACCCGAAGTCGGTGACCTAACCGTAAGAAGGAGCCGCCGAAGTGAAGCCAGTGACTGGGGTGAAGTCGTAACAAGGTAGCCGTATCGGAAGTGCCGGCCTGGATCACCT\n",
            "\n",
            "ID: NR_115819.1\n",
            "Description: NR_115819.1 Brucella ciceri strain Ca-34 16S ribosomal RNA, partial sequence\n",
            "Sequence: AGAGTTTGATCCTGGTCAGAACGAACGCTGGCGGCAGGCTTAACACATGCAAGTCGAGCGGGCCCTTCGGGGTCAGCGGCAGACGGGTGAGTAACGCGTGGGAACGTACCATTTGCTACGGAATAACTCAGGGAAACTTGTGCTAATACCGTATGAGCCCCCCTTTAAAATTTCAGGAATCATAAAATGCCCTGGCATTTTATGGGGGGGAAAGATTTATCGGCAAATGATCGGCCCGCGTTGGATTAGCTAGTTGGTGGGGTAAAGGCCTACCAAGGCGACGATCCATAGCTGGTCTGAGAGGATGATCAGCCACACTGGGACTGAGACACGGCCCAGACTCCTACGGGAGGCAGCAGTGGGGAATATTGGACAATGGGCGCAAGCCTGATCCAGCCATGCCGCGTGAGTGATGAAGGCCCTAGGGTTGTAAAGCTCTTTCACCGGCGAAGATAATGACGGTAACCGGAGAAGAAGCCCCGGCTAACTTCGTGCCAGCAGCCGCGGTAATACGAAGGGGGCTAGCGTTGTTCGGATTTACTGGGCGTAAAGCGCACGTAGGCGGGCTAATAAGTCAGGGGTGAAATCCCGGGGCTCAACCCCGGAACTGCCTTTGATACTGTTAGTCTTGAGTATGGTAGAGGTGAGTGGAATTCCGAGTGTAGAGGTGAAATTCGTAGATATTCGGAGGAACACCAGTGGCGAAGGCGGCTCACTGGACCATTACTGACGCTGAGGTGCGAAAGCGTGGGGAGCAAACAGGATTAGATACCCTGGTAGTCCACGCCGTAAACGATGAATGTTAGCCGTTGGGGAGTTTACTCTTCGGTGGCGCAGCTAACGCATTAAACATTCCGCCTGGGGAGTACGGTCGCAAGATTAAAACTCAAAGGAATTGACGGGGGCCCGCACAAGCGGTGGAGCATGTGGTTTAATTCGAAGCAACGCGCAGAACCTTACCAGCCCTCGACATCCCGATCGCGGTTAGTGGAGACACTATCCTTCAGTTCGGCTGGATCGGAGACAGGTGCTGCATGGCTGTCGTCAGCTCGTGTCGTGAGATGTTGGGTTAAGTCCCGCAACGAGCGCAACCCTCGCCCTTAGTTGCCAGCATTCAGTTGGGCACTCTAAGGGGACTGCCGGTGATAAGCCGAGAGGAAGGTGGGGATGACGTCAAGTCCTCATGGCCCTTACGGGCTGGGCTACACACGTGCTACAATGGTGGTGACAGTGGGCAGCGAGCACGCGAGTGTGAGCTAATCTCCAAAAGCCATCTCAGTTCGGATTGCGCTCTGCAACTCGAGTGCATGAAGTTGGAATCGCTAGTAATCGCGGATCAGCATGCCGCGGTGAATACGTTCCCGGGCCTTGTACACACCGCCCGTCACACCATGGGAGTTGGTTTTACCCGAAGGCGCTGTGCTAACCGCAAGGAGGCAGGCGACCACGGTAGGGTCAGCGACTGGGGTGAAGTCGTAACAAGGTAGCCGTA\n",
            "\n",
            "ID: NR_044085.1\n",
            "Description: NR_044085.1 Caldicellulosiruptor kronotskyensis strain 2002 16S ribosomal RNA, partial sequence\n",
            "Sequence: TGTTTGATCCTGGCTCAGGACGAACGCTGGCGGCGTGCCTAACGCATGCAAGTCGAGCGGAGATGGTGGTTGAAGGTGATGAGCTGGAGGCTGCCATCTTAGCGGCGGACGGGTGAGTAACACGTGAGCAACCTACCCTCAGCACGGGGATAACAGCTCGAAAGGGCTGCTAATACCCGATGGGACCACGGCATCGCATGATGTTGTGGTGAAAGGGTGGACGTAAGGTCCATTCCGGCTGGGGATGGGCTCGCGGCCCATCAGCTAGTTGGTGGGGTAACGGCCTACCAAGGCGACGACGGGTAGCCGGCCTGAGAGGGTGTACGGCCACAGTGGGACTGAGACACGGCCCACACTCCTACGGGAGGCAGCAGCGGGGAATCTTGCGCAATGGGCGAAAGCCTGACGCAGCGACGCCGCGTGAGGGAAGAAGCCCTTCGGGGTGTAAACCTCTTTGGACGGGGAGAAGGAGAAGATAGTACCCGTTTAAAAAGCCACGGCTAACTACGTGCCAGCAGCCGCGGTAATACGTAGGTGGCGAGCGTTGTCCGGAATTACTGGGCGTAAAGGGTGCGTAGGCGGCCTGGTAAGTTGAGCGTGAAATTTTTGGGCTCAACCCAAAAGGAGCGCTCAAAACTGCCAGGCTTGAGTGCGGGAGAGGACGGCGGAATTCCCGGTGTAGCGGTGAAATGCGTAGATATCGGGAGGAACACCAGTGGCGAAGGCGGCCGTCTGGACCGTAACTGACGCTGAGGCACGAAAGCGTGGGGAGCAAACAGGATTAGATACCCTGGTAGTCCACGCTGTAAACGATGGATGCTAGGTGTGGGGGAGAAGAACTCTTCCGTGCCGTAGTTAACACAATAAGCATCCCGCCTGGGGAGTACGGCCGCAAGGTTGAAACTCAAAGGAATTGACGGGGGCCCGCACAAGCGGTGGAGCATGTGGTTTAATTCGAAGCAACGCGAAGAACCTTACCAGGGCTTGACATGCCGGGAACCCTGCCGAAAGGTGGGGGTGCCTGCTTGTTGAGAGCAGGAACCCGGACACAGGTGGTGCATGGTTGTCGTCAGCTCGTGTCGTGAGATGTTGGGTTAAGTCCCGCAACGAGCGCAACCCCTGCCCTTAGTTGCCAGCGCGTAAAGGTGGGCACTCTAAGGGGATGCCGCCGATGAGGCGGAGGAAGGTGGGGATGACGTCAAATCATCATGCCCCTTATGCCCTGGGCTACACACGTGCTACAATGGGTGCTACAGAGGGCAGCGAAGGCGTGAGCCGGAGCGAATCCCAAAAAAGCACCCCCAGTTCGGATTGCAGGCTGCAACTCGCCTGCATGAAGTCGGAATCGCTAGAAATCGCGGATCAGCATGCCGCGGTGAATACGTTCCCGGGCCTTGTACACACCGCCCGTCACACCATGAGAGTCAGCAACACCTGAAGACACAGGGTAGCTGTGTTGAAGGTGGGGCTGATGATTGGGGTGAAGTCGTAACAAGGTAGCCGTA\n",
            "\n",
            "ID: NR_043801.1\n",
            "Description: NR_043801.1 Labrys neptuniae strain Liujia-146 16S ribosomal RNA, partial sequence\n",
            "Sequence: GCAAGTCGAACGCCCCGCAAGGGGAGTGGCAGACGGGTGAGTAACGCGTGGGGATGTGCCTTGAGGTGGGGAATAACTGTGGGAAACTACAGCTAATACCGCATACGCCCTTTTGGGGAAAGATTTATCGCCTTTAGAGCAACCCGCGTCAGATTAGCTAGTTGGTAGGGTAATGGCCTACCAAGGCGACGATCTGTAGCTGGTCTGAGAGGATGACCAGCCACACTGGGACTGAGACACGGCCCAGACTCCTACGGGAGGCAGCAGTGGGGAATATTGGACAATGGGCGCAAGCCTGATCCAGCCATGCCGCGTGAGTGATGACGGCCTTAGGGTTGTAAAGCTCTTTTAACAGGGACGATAATGACGGTACCTGTAGAATAAGCCCCGGCAAACTTCGTGCCAGCAGCCGCGGTAATACGAAGGGGGCTAGCGTTGTTCGGAATTACTGGGCGTAAAGCGCACGTAGGCGGATTGTTAAGTCGGGGGTGAAATCCTGAGGCTCAACCTCAGAACTGCCTTCGATACTGGCGATCTTGAGTTCGGAAGAGGTTGGTGGAACAGCTAGTGTAGAGGTGAAATTCGTAGATATTAGCTAGAACACCAGTGGCGAAGGCGGCCAACTGGTCCGATACTGACGCTGAGGTGCGAAAGCGTGGGGAGCAAACAGGATTAGATACCCTGGTAGTCCACGCCGTAAACGATGAATGCCAGCCGTCGGGGAGCTTGCTCTTCGGTGGCGCAGCTAACGCTTTAAGCATTCCGCCTGGGGAGTACGGTCGCAAGATTAAAACTCAAAGGAATTGACGGGGGCCCGCACAAGCGGTGGAGCATGTGGTTTAATTCGAAGCAACGCGCAGAACCTTACCAGCCCTTGACATCCCGGTCGCGGATCACAGAGATGAGATCCTTCAGTTCGGCTGGACCGGAGACAGGTGCTGCATGGCTGTCGTCAGCTCGTGTCGTGAGATGTTGGGTTAAGTCCCGCAACGAGCGCAACCCTCGCCCCTAGTTGCCAGCATTAAGTTGGGCACTCTAGGGGGACTGCCGGTGATAAGCCGCGAGGAAGGTGGGGATGACGTCAAGTCCTCATGGCCCTTACGGGCTGGGCTACACACGTGCTACAATGGCGGTGACAGTGGGAAGCGAAGGGGTGACCCCTAGCAAATCTCCAAAAGCCGTCTCAGTTCAGATTGCACTCTGCAACTCGAGTGCATGAAGGTGGAATCGCTAGTAATCGCAGATCAGCATGCTGCGGTGAATACGTTCCCGGGCCTTGTACACACCGCCCGTCACACCATGGGAGTTGGTTTTACCCGAAGGCGCTGCGCCAACCGCAAGGAGGCAGGCGACCACGGTAGGGTCAGCGACTGGGGTGAA\n",
            "\n",
            "ID: NR_029690.1\n",
            "Description: NR_029690.1 Homo sapiens microRNA 191 (MIR191), microRNA\n",
            "Sequence: CGGCTGGACAGCGGGCAACGGAATCCCAAAAGCAGCTGTTGTCTCCAGAGCATTCCAGCTGCGCTTGGATTTCGTCCCCTGCTCTCCTGCCT\n",
            "\n",
            "ID: NR_024570.1\n",
            "Description: NR_024570.1 Escherichia coli strain U 5/41 16S ribosomal RNA, partial sequence\n",
            "Sequence: AGTTTGATCATGGCTCAGATTGAACGCTGGCGGCAGGCCTAACACATGCAAGTCGAACGGTAACAGGAAGCAGCTTGCTGCTTTGCTGACGAGTGGCGGACGGGTGAGTAATGTCTGGGAAACTGCCTGATGGAGGGGGATAACTACTGGAAACGGTAGCTAATACCGCATAACGTCGCAAGCACAAAGAGGGGGACCTTAGGGCCTCTTGCCATCGGATGTGCCCAGATGGGATTAGCTAGTAGGTGGGGTAACGGCTCACCTAGGCGACGATCCCTAGCTGGTCTGAGAGGATGACCAGCAACACTGGAACTGAGACACGGTCCAGACTCCTACGGGAGGCAGCAGTGGGGAATATTGCACAATGGGCGCAAGCCTGATGCAGCCATGCNGCGTGTATGAAGAAGGCCTTCGGGTTGTAAAGTACTTTCAGCGGGGAGGAAGGGAGTAAAGTTAATACCTTTGCTCATTGACGTTACCCGCAGAAGAAGCACCGGCTAACTCCGTGCCAGCAGCCGCGGTAATACGGAGGGTGCAAGCGTTAATCGGAATTACTGGGCGTAAAGCGCACGCAGGCGGTTTGTTAAGTCAGATGTGAAATCCCCGGGCTCAACCTGGGAACTGCATCTGATACTGGCAAGCTTGAGTCTCGTAGAGGGGGGTAGAATTCCAGGTGTAGCGGTGAAATGCGTAGAGATCTGGAGGAATACCGGTGGCGAAGGCGGCCCCCTGGACGAAGACTGACGCTCAGGTGCGAAAGCGTGGGGAGCAAACAGGATTAGATACCCTGGTAGTCCACGCCGTAAACGATGTCGACTTGGAGGTTGTGCCCTTGAGGCGTGGCTTCCGGANNTAACGCGTTAAGTCGACCGCCTGGGGAGTACGGCCGCAAGGTTAAAACTCAAATGAATTGACGGGGGCCGCACAAGCGGTGGAGCATGTGGTTTAATTCGATGCAACGCGAAGAACCTTACCTGGTCTTGACATCCACGGAAGTTTTCAGAGATGAGAATGTGCCTTCGGGAACCGTGAGACAGGTGCTGCATGGCTGTCGTCAGCTCGTGTTGTGAAATGTTGGGTTAAGTCCCGCAACGAGCGCAACCCTTATCCTTTGTTGCCAGCGGTCCGGCCGGGAACTCAAAGGAGACTGCCAGTGATAAACTGGAGGAAGGTGGGGATGACGTCAAGTCATCATGGCCCTTACGACCAGGGCTACACACGTGCTACAATGGCGCATACAAAGAGAAGCGACCTCGCGAGAGCAAGCGGACCTCATAAAGTGCGTCGTAGTCCGGATTGGAGTCTGCAACTCGACTCCATGAAGTCGGAATCGCTAGTAATCGTGGATCAGAATGCCACGGTGAATACGTTCCCGGGCCTTGTACACACCGCCCGTCACACCATGGGAGTGGGTTGCAAAAGAAGTAGGTAGCTTAACTTCGGGAGGGCG\n",
            "\n",
            "ID: NR_115818.1\n",
            "Description: NR_115818.1 Geosporobacter subterraneus strain VNs68 16S ribosomal RNA, partial sequence\n",
            "Sequence: AGATTTTGATCCTGGCTCAGGATGAACGCTGGCGGCGTGCCTAACACATGCAAGTCGAGCGGTCTAGTGCTCAACTGAACTTCGTTCAGTTGAGGTTGAAGGAGAAATGTTGAAGGTTGAAGGTTCTTTAGGAAAGTCTCTGAGGGTTTAAAACCCAAGAGATAGACCCCAAAACATTCAACATACAACATGCAACTTACAACGACTCAACACAGCGAAGCTGAGTTGAGTGCTAGATAGCGGCGGACGGGTGAGTAACGCGTGGGCAACCTGCCCTATACAGGGGGATAACACACCGAAAGGTGTGCTAATACCCCATAACACTGATGCTTCGCATGGAGTGTCAGTCAAAGATTTATCGGTATAGGATGGGCCCGCGTCTGATTAGCTAGTTGGTGAGGTAATGGCTCACCAAGGCGACGATCAGTAGCCGACCTGAGAGGGTGATCGGCCACACTGGAACTGAGACACGGTCCAGACTCCTACGGGAGGCAGCAGTGGGGAATATTGCACAATGGGGGAAACCCTGATGCAGCAACGCCGCGTGAGCGATGAAGGCCTTCGGGTCGTAAAGCTCTGTCCTAAGGGAAGAATAATGACGGTACCTTAGGAGGAAGCCCCGGCTAACTACGTGCCAGCAGCCGCGGTAATACGTAGGGGGCAAGCGTTATCCGGAATCACTGGGCGTAAAGGGTGCGTAGGCGGCCGATAAAGTCTGGGGTGAAAGGCTACGGCTTAACCGTAGTAAGCCTTGGAAACTTATTGGCTTGAGTGCAGGAGAGGTAAGTGGAATTCCTAGTGTAGCGGTGAAATGCGTAGATATTAGGAGGAACACCAGTGGCGAAGGCGACTTACTGGACTGTAACTGACGCTGAGGCACGAAAGCGTGGGGAGCGAACAGGATTAGATACCCTGGTAGTCCACGCCGTAAACGATGAGTGCTAGGTGTCGGGGGCGACAGCCCTCGGTGCCGCAGCTAACGCATTAAGCACTCCGCCTGGGGAGTACGCTCGCAAGAGTGAAACTCAAAGGAATTGACGGGGACCCGCACAAGCAGCGGAGCATGTGGTTTAATTCGAAGCAACGCGAAGAACCTTACCAGGACTTGACATCCCTCGCATTAGCCGTAACGGGTGAAATCCCTTCGGGGACGAGGAGACAGGTGGTGCATGGTTGTCGTCAGCTCGTGTCGTGAGATGTTGGGTTAAGTCCCGCAACGAGCGCAACCCTTGTCTTTAGTTGCCAGCAGCTAGCGCGGGGCACTCGAGAGAGACTGCCGGGGATAACTCGGAGGAAGGTGGGGATGACGTCAAATCATCATGCCCCTTATGTTCTGGGCTACACACGTGCTACAATGGCTGGTACAACGGGAAGCGAAGGAGTAATCCGGAGCAAATCCTAAAAGCCAGTCTCAGTTCGGATTGTGGGCTGCAACTCGCCCACATGAAGCTGGAGTTGCTAGTAATCGTGGATCAGAATGCCGCGGTGAATGCGTTCCCGGGTCTTGTACACACCGCCCGTCACACCATGGGAGCTCAGGGCACCCGAAGTCAGTGAGCTAACCGAAAGGGAGCAGCTGCCGAAGGTGAAATGAGTGACTGGGGTGAAGTCGTAACAAGGTAACCGT\n",
            "\n",
            "ID: NR_025227.1\n",
            "Description: NR_025227.1 Pseudomonas umsongensis strain Ps 3-10 16S ribosomal RNA, partial sequence\n",
            "Sequence: AACGCTGGCGGCAGGCCTAACACATGCAAGTCGAGCGGATGAAGAGAGCTTGCTCTCTGATTCAGCGGCGGACGGGTGAGTAATGCCTAGGAATCTGCCTGGTAGTGGGGGACAACGTCTCGAAAGGGACGCTAATACCGCATACGTCCTACGGGAGAAAGCAGGGGACCTTCGGGCCTTGCGCTATCAGATGAGCCTAGGTCGGATTAGCTAGTTGGTGAGGTAATGGCTCACCAAGGCGACGATCCGTAACTGGTCTGAGAGGATGATCAGTCACACTGGAACTGAGACACGGTCCAGACTCCTACGGGAGGCAGCAGTGGGGAATATTGGACAATGGGCGAAAGCCTGATCCAGCCATGCCGCGTGTGTGAAGAAGGTCTTCGGATTGTAAAGCACTTTAAGTTGGGAGGAAGGGCAGTAAATTAATACTTTGCTGTTTTGACGTTACCGACAGAATAAGCACCGGCTAACTCTGTGCCAGCAGCCGCGGTAATACAGAGGGTGCAAGCGTTAATCGGAATTACTGGGCGTAAAGCGCGCGTAGGTGGTTTGTTAAGTTGGATGTGAAATCCCCGGGCTCAACCTGGGAACTGCATTCAAAACTGACAAGCTAGAGTATGGTAGAGGGTGGTGGAATTTCCTGTGTAGCGGTGAAATGCGTAGATATAGGAAGGAACACCAGTGGCGAAGGCGACCACCTGGACTGATACTGACACTGAGGTGCGAAAGCGTGGGGAGCAAACAGGATTAGATACCCTGGTAGTCCACGCCGTAAACGATGTCAACTAGCCGTTGGGAGCCTTGAGCTCTTAGTGGCGCAGCTAACGCATTAAGTTGACCGCCTGGGGAGTACGGCCGCAAGGTTAAAACTCAAATGAATTGACGGGGGCCCGCACAAGCGGTGGAGCATGTGGTTTAATTCGAAGCAACGCGAAGAACCTTACCAGGCCTTGACATCCAATGAACTTTCCAGAGATGGATTGGTGCCTTCGGGAACATTGAGACAGGTGCTGCATGGCTGTCGTCAGCTCGTGTCGTGAGATGTTGGGTTAAGTCCCGTAACGAGCGCAACCCTTGTCCTTAGTTACCAGCACGTAATGGTGGGCACTCTAAGGAGACTGCCGGTGACAAACCGGAGGAAGGTGGGGATGACGTCAAGTCATCATGGCCCTTACGGCCTGGGCTACACACGTGCTACAATGGTCGGTACAGAGGGTTGCCAAGCCGCGAGGTGGAGCTAATCCCATAAAACCGATCGTAGTCCGGATCGCAGTCTGCAACTCGACTGCGTGAAGTCGGAATCGCTAGTAATCGCGAATCAGAATGTCGCGGTGAATACGTTCCCGGGCCTTGTACACACCGCCCGTCACACCATGGGAGTGGGTTGCACCAGAAGTAGCTAGTCTAACCTTCGGGAGGACGGTTACCACGGTGTGATTCATGACTGGGGTG\n",
            "\n"
          ]
        }
      ],
      "source": [
        "# Liste d'identifiants NCBI de 16S bactériens (exemples)\n",
        "selected_ids = [\"NR_025230\", \"NR_041801\", \"NR_026150\", \"NR_115819\", \"NR_044085\", \"NR_043801\", \"NR_029690\", \"NR_024570\", \"NR_115818\", \"NR_025227\"]\n",
        "\n",
        "\n",
        "with open(\"test_bact.fasta\", \"w\") as output_file:\n",
        "    for seq_id in selected_ids:\n",
        "        handle = Entrez.efetch(db=\"nucleotide\", id=seq_id, rettype=\"gb\", retmode=\"text\")\n",
        "        record = SeqIO.read(handle, \"genbank\")\n",
        "        handle.close()\n",
        "\n",
        "        SeqIO.write(record, output_file, \"fasta\")\n",
        "\n",
        "print(\"Fichier FASTA généré avec succès: \\n\")\n",
        "\n",
        "\n",
        "fasta_file = \"test_bact.fasta\"\n",
        "\n",
        "sequences = list(SeqIO.parse(fasta_file, \"fasta\"))\n",
        "\n",
        "\n",
        "for record in sequences:\n",
        "    print(\"ID:\", record.id)\n",
        "    print(\"Description:\", record.description)\n",
        "    print(\"Sequence:\", str(record.seq))\n",
        "    print()\n",
        "\n"
      ]
    },
    {
      "cell_type": "code",
      "execution_count": null,
      "metadata": {
        "id": "dzt0HGYHdSYl",
        "colab": {
          "base_uri": "https://localhost:8080/",
          "height": 104
        },
        "outputId": "fcb532f5-0702-4489-8364-01e5cb4b4f1f"
      },
      "outputs": [
        {
          "output_type": "execute_result",
          "data": {
            "text/plain": [
              "'\\nsearch_term = \"18S ribosomal RNA[Gene] AND protists[filter]\"  # Recherche de gènes 18S chez les protistes\\n\\n\\nhandle = Entrez.esearch(db=\"nucleotide\", term=search_term, retmax=10000)\\nrecord = Entrez.read(handle)\\nhandle.close()\\n\\nidentifiers = record[\"IdList\"]\\n\\nwith open(\"test_prot.fasta\", \"w\") as output_file:\\n  for identifier in identifiers:\\n      handle = Entrez.efetch(db=\"nucleotide\", id=identifier, rettype=\"gb\", retmode=\"text\")\\n      record = SeqIO.read(handle, \"genbank\")\\n      handle.close()\\n\\n      SeqIO.write(record, output_file, \"fasta\")\\n\\nprint(\"Fichier FASTA généré avec succès: \\n\")\\n\\n\\nfasta_file = \"test_prot.fasta\"\\n\\nsequences = list(SeqIO.parse(fasta_file, \"fasta\"))\\n\\nfor record in sequences:\\n    print(\"ID:\", record.id)\\n    print(\"Description:\", record.description)\\n    print(\"Sequence:\", str(record.seq))\\n    print()\\n'"
            ],
            "application/vnd.google.colaboratory.intrinsic+json": {
              "type": "string"
            }
          },
          "metadata": {},
          "execution_count": 4
        }
      ],
      "source": [
        "# Ce code va chercher toutes les séquences 18S de protistes\n",
        "'''\n",
        "search_term = \"18S ribosomal RNA[Gene] AND protists[filter]\"  # Recherche de gènes 18S chez les protistes\n",
        "\n",
        "\n",
        "handle = Entrez.esearch(db=\"nucleotide\", term=search_term, retmax=10000)\n",
        "record = Entrez.read(handle)\n",
        "handle.close()\n",
        "\n",
        "identifiers = record[\"IdList\"]\n",
        "\n",
        "with open(\"test_prot.fasta\", \"w\") as output_file:\n",
        "  for identifier in identifiers:\n",
        "      handle = Entrez.efetch(db=\"nucleotide\", id=identifier, rettype=\"gb\", retmode=\"text\")\n",
        "      record = SeqIO.read(handle, \"genbank\")\n",
        "      handle.close()\n",
        "\n",
        "      SeqIO.write(record, output_file, \"fasta\")\n",
        "\n",
        "print(\"Fichier FASTA généré avec succès: \\n\")\n",
        "\n",
        "\n",
        "fasta_file = \"test_prot.fasta\"\n",
        "\n",
        "sequences = list(SeqIO.parse(fasta_file, \"fasta\"))\n",
        "\n",
        "for record in sequences:\n",
        "    print(\"ID:\", record.id)\n",
        "    print(\"Description:\", record.description)\n",
        "    print(\"Sequence:\", str(record.seq))\n",
        "    print()\n",
        "'''"
      ]
    },
    {
      "cell_type": "markdown",
      "metadata": {
        "id": "OB4x0pqMXJbB"
      },
      "source": [
        "Invention de résultats\n",
        "\n",
        "On as donc:\n",
        "4 échantillons composite tous le mois\n",
        "3 clades à étudier avec pour chacun de ces clades un marqueur spécifique\n",
        "\n",
        "\n",
        "Bactéries 16S\n",
        "\n",
        "Champignons ITS\n",
        "\n",
        "Protistes 18S\n",
        "\n",
        "---\n",
        "\n",
        "On va partir du principe que nos hypothèses seront correctes sauf pour la biodynamie qui ne sera pas significativement différente de l'agriculture biologique normale\n",
        "\n",
        "---\n",
        "Stratégie:\n",
        "\n",
        "Créer une liste d'espèce, en se basant sur GenBank. Pour certains groupes, on sera obligé de créer des espèces fictives qui seront seront déclarée comme espèces inconnues. Les espèces fictive seront créé à partir de léger changement dans les séquences d'espèces existantes.\n",
        "\n",
        "\n",
        "\n",
        "Pour simuler une évlution des données je vais créer des vecteurs pour chaque groupe d'organisme et pour chaque type de culture, qui simuleront l'évolution de ces groupes d'organismes à travers le temps, je vais créer un petit algo qui permet de faire évoluer le vecteur dans le sens qu'on choisit mais qui fait attention de conserver les même espèces."
      ]
    },
    {
      "cell_type": "code",
      "execution_count": null,
      "metadata": {
        "id": "GsN6JS-EheJd"
      },
      "outputs": [],
      "source": [
        "class FileManager:\n",
        "  def __init__(self, search_term, organism):\n",
        "    self.search_term = search_term\n",
        "    self.organism = organism\n",
        "    self.fasta_file = f'selected_{self.organism}.fasta'\n",
        "    self.nucleotides = ['A','C','G','T']\n",
        "\n",
        "  def create_file(self):\n",
        "    handle = Entrez.esearch(db=\"nucleotide\", term=self.search_term, retmax=10000)\n",
        "    record = Entrez.read(handle)\n",
        "    handle.close()\n",
        "\n",
        "    identifiers = record[\"IdList\"]\n",
        "\n",
        "    with open(f\"selected_{self.organism}.fasta\", \"w\") as output_file:\n",
        "      for identifier in identifiers:\n",
        "          handle = Entrez.efetch(db=\"nucleotide\", id=identifier, rettype=\"gb\", retmode=\"text\")\n",
        "          record = SeqIO.read(handle, \"genbank\")\n",
        "          handle.close()\n",
        "          SeqIO.write(record, output_file, \"fasta\")\n",
        "\n",
        "    print(\"Fichier FASTA généré avec succès: \\n\")\n",
        "    return f\"selected_{self.organism}.fasta\"\n",
        "\n",
        "  def read_file(self):\n",
        "    sequences = list(SeqIO.parse(self.fasta_file, \"fasta\"))\n",
        "\n",
        "    for record in sequences:\n",
        "      print(\"ID:\", record.id)\n",
        "      print(\"Description:\", record.description)\n",
        "      print(\"Sequence:\", str(record.seq))\n",
        "      print()\n",
        "\n",
        "  def artificial_individual(self):\n",
        "        sequences = list(SeqIO.parse(self.fasta_file, \"fasta\"))\n",
        "\n",
        "        if len(sequences) == 0:\n",
        "            print(\"Aucune séquence disponible dans le fichier FASTA.\")\n",
        "            return\n",
        "\n",
        "        existing_individual = random.choice(sequences)\n",
        "        artificial_id = str(random.randint(10**9, 10**10 - 1))\n",
        "        artificial_description = f\"Individu inconnu du groupe {self.organism}\"\n",
        "        num_mutations = random.randint(1, 10)\n",
        "\n",
        "        artificial_sequence = list(existing_individual.seq)\n",
        "\n",
        "        # Modifiez aléatoirement les nucléotides\n",
        "        for _ in range(num_mutations):\n",
        "            position_to_mutate = random.randint(0, len(artificial_sequence) - 1)\n",
        "            new_nucleotide = random.choice(self.nucleotides)\n",
        "            artificial_sequence[position_to_mutate] = new_nucleotide\n",
        "\n",
        "        # Créez un enregistrement SeqRecord pour l'individu artificiel\n",
        "        artificial_record = SeqRecord(Seq(''.join(artificial_sequence)), id=artificial_id, description=artificial_description)\n",
        "        artificial_record.annotations[\"molecule_type\"] = \"DNA\"  # Spécifiez le type de molécule\n",
        "\n",
        "        # Ajoutez l'individu artificiel à la liste des séquences\n",
        "        sequences.append(artificial_record)\n",
        "\n",
        "        # Sauvegardez la nouvelle liste de séquences dans le fichier FASTA\n",
        "        SeqIO.write(sequences, self.fasta_file, \"fasta\")\n",
        "\n",
        "  def count_individuals(self):\n",
        "        # Charger les séquences du fichier FASTA\n",
        "        sequences = list(SeqIO.parse(self.fasta_file, \"fasta\"))\n",
        "\n",
        "        # Compter le nombre d'individus\n",
        "        num_individuals = len(sequences)\n",
        "\n",
        "        print(f\"Le fichier FASTA '{self.fasta_file}' contient {num_individuals} individus.\")\n",
        "        return num_individuals\n"
      ]
    },
    {
      "cell_type": "code",
      "execution_count": null,
      "metadata": {
        "colab": {
          "base_uri": "https://localhost:8080/"
        },
        "id": "17nNznn0XI9T",
        "outputId": "d2a90d27-1f20-4e96-96c9-c019f2ac3460"
      },
      "outputs": [
        {
          "output_type": "stream",
          "name": "stdout",
          "text": [
            "Fichier FASTA généré avec succès: \n",
            "\n",
            "Le fichier FASTA 'selected_fungi.fasta' contient 52 individus.\n"
          ]
        },
        {
          "output_type": "execute_result",
          "data": {
            "text/plain": [
              "52"
            ]
          },
          "metadata": {},
          "execution_count": 6
        }
      ],
      "source": [
        "search_term_fungi = 'ITS sequence[Title] AND \"Fungi\"[Organism]'\n",
        "\n",
        "champis = FileManager(search_term_fungi, 'fungi')\n",
        "champis.create_file()\n",
        "for i in range(50):\n",
        "  champis.artificial_individual()\n",
        "champis.count_individuals()"
      ]
    },
    {
      "cell_type": "code",
      "execution_count": null,
      "metadata": {
        "colab": {
          "base_uri": "https://localhost:8080/"
        },
        "id": "xKSP-qPzG4bV",
        "outputId": "2636e9fb-d580-49b7-9732-1a17dcaf7d3e"
      },
      "outputs": [
        {
          "output_type": "stream",
          "name": "stdout",
          "text": [
            "Fichier FASTA généré avec succès: \n",
            "\n",
            "Le fichier FASTA 'selected_protist.fasta' contient 90 individus.\n"
          ]
        },
        {
          "output_type": "execute_result",
          "data": {
            "text/plain": [
              "90"
            ]
          },
          "metadata": {},
          "execution_count": 7
        }
      ],
      "source": [
        "search_term_protist = \"18S ribosomal RNA[Gene] AND protists[filter]\"\n",
        "\n",
        "protist = FileManager(search_term_protist, 'protist')\n",
        "protist.create_file()\n",
        "protist.count_individuals()"
      ]
    },
    {
      "cell_type": "code",
      "execution_count": null,
      "metadata": {
        "colab": {
          "base_uri": "https://localhost:8080/"
        },
        "id": "qDwfIpR2G4_g",
        "outputId": "45f130a3-9680-4418-ac10-b35927a19fcd"
      },
      "outputs": [
        {
          "output_type": "stream",
          "name": "stdout",
          "text": [
            "Nombre d'individus dans le fichier selected_bacteria.fasta: 150\n"
          ]
        }
      ],
      "source": [
        "def create_bacterial_individuals(output_file, num_individuals):\n",
        "    nucleotides = ['A', 'C', 'G', 'T']\n",
        "    template_sequence = \"AGTAATACCCAATCCTGACACAGGGAGGTAGTGACAAGAAATAACAATACAGGGCAATAGTCTTGTAATTGGAATGATGCCGATTAAAAATTCCGGCAGAGTACCAATTGGAGGGCAAGTCTGGTGCCAGCAGCCGCGGTAATTCCAGCTCCAATAGCGTATATTAAACTTGTTGCAGTTAAAAAGCTCGTAGTTGAATTTCAGCGATTCTGTCATTATACCATGTGGTGTATTGTCGGTTTCGCCTTTTGTATTACTTTGAGAAAAATAGAGTGTTTCAAGCAGACTTTTGTCTTGAATAGTGTAGCATGGAATAATAGAGTAGGACGGATTTCCTATTTTGTTGGTTTGCGGTGTCCGTAATGGGTAATAGGAACGGTTGGGGGCATTCGTATTTAA\"\n",
        "\n",
        "    with open(output_file, \"w\") as fasta_file:\n",
        "        for i in range(num_individuals):\n",
        "            artificial_sequence = list(template_sequence)\n",
        "            num_mutations = random.randint(1, 10)\n",
        "\n",
        "            for _ in range(num_mutations):\n",
        "                position_to_mutate = random.randint(0, len(artificial_sequence) - 1)\n",
        "                new_nucleotide = random.choice(nucleotides)\n",
        "                artificial_sequence[position_to_mutate] = new_nucleotide\n",
        "\n",
        "            artificial_sequence = ''.join(artificial_sequence)\n",
        "            artificial_id = f\"Artificial_{i + 1}\"\n",
        "            description = f\"Artificial Bacterial Individual {i + 1}\"\n",
        "\n",
        "            record = SeqRecord(Seq(artificial_sequence), id=artificial_id, description=description)\n",
        "            SeqIO.write(record, fasta_file, \"fasta\")\n",
        "\n",
        "bacteria = 'selected_bacteria.fasta'\n",
        "\n",
        "create_bacterial_individuals(bacteria, 150)\n",
        "\n",
        "def open_fasta_file(file_path):\n",
        "    \"\"\"\n",
        "    Ouvre un fichier FASTA et retourne une liste d'objets SeqRecord.\n",
        "    Args:\n",
        "        file_path (str): Chemin vers le fichier FASTA.\n",
        "    Returns:\n",
        "        list: Liste d'objets SeqRecord.\n",
        "    \"\"\"\n",
        "    try:\n",
        "        sequences = list(SeqIO.parse(file_path, \"fasta\"))\n",
        "        return sequences\n",
        "    except FileNotFoundError:\n",
        "        print(f\"Le fichier {file_path} n'a pas été trouvé.\")\n",
        "        return []\n",
        "    except Exception as e:\n",
        "        print(f\"Une erreur s'est produite lors de l'ouverture du fichier : {e}\")\n",
        "        return []\n",
        "\n",
        "def count_individuals_in_fasta(file_path):\n",
        "    \"\"\"\n",
        "    Compte le nombre d'individus dans un fichier FASTA.\n",
        "    Args:\n",
        "        file_path (str): Chemin vers le fichier FASTA.\n",
        "    Returns:\n",
        "        int: Nombre d'individus dans le fichier.\n",
        "    \"\"\"\n",
        "    sequences = open_fasta_file(file_path)\n",
        "    num_individuals = len(sequences)\n",
        "    return num_individuals\n",
        "\n",
        "# Exemple d'utilisation\n",
        "fasta_file_path = bacteria\n",
        "sequences = open_fasta_file(fasta_file_path)\n",
        "\n",
        "if sequences:\n",
        "    print(f\"Nombre d'individus dans le fichier {fasta_file_path}: {count_individuals_in_fasta(fasta_file_path)}\")"
      ]
    },
    {
      "cell_type": "code",
      "source": [
        "import numpy as np\n",
        "import random\n",
        "import pandas as pd\n",
        "from Bio import SeqIO\n",
        "from openpyxl import Workbook\n",
        "from openpyxl.utils.dataframe import dataframe_to_rows\n",
        "import matplotlib.pyplot as plt\n",
        "from scipy.spatial import distance\n",
        "from scipy.stats import entropy\n",
        "\n",
        "# Chargement des fichiers FASTA\n",
        "def load_fasta(file_path):\n",
        "    records = list(SeqIO.parse(file_path, \"fasta\"))\n",
        "    return records\n",
        "\n",
        "selected_protist = load_fasta(\"selected_protist.fasta\")\n",
        "selected_fungi = load_fasta(\"selected_fungi.fasta\")\n",
        "selected_bacteria = load_fasta(\"selected_bacteria.fasta\")\n",
        "\n",
        "# Nombre d'individus au départ dans chaque parcelle\n",
        "initial_biodiversity = {\n",
        "    \"conventionnelle\": random.randint(27, 33),\n",
        "    \"biologique\": random.randint(27, 33),\n",
        "    \"biodynamie\": random.randint(27, 33),\n",
        "    \"permaculture\": random.randint(27, 33)\n",
        "}\n",
        "\n",
        "# Paramètres pour l'évolution de la biodiversité\n",
        "decline_rate = 0.02  # Taux de déclin de la biodiversité pour Parcelle1\n",
        "increase_rate = 0.01  # Taux d'augmentation de la biodiversité pour Parcelle2 et Parcelle3\n",
        "strong_increase_rate = 0.03  # Taux d'augmentation fort pour Parcelle4\n",
        "\n",
        "# Nombre de mois dans la simulation\n",
        "months = 60  # 5 ans x 12 mois\n",
        "\n",
        "# Évolution de la biodiversité au fil du temps\n",
        "biodiversity_data = {\"conventionnelle\": [], \"biologique\": [], \"biodynamie\": [], \"permaculture\": []}\n",
        "species_data = {\"conventionnelle\": [], \"biologique\": [], \"biodynamie\": [], \"permaculture\": []}\n",
        "\n",
        "# Liste pour stocker la biodiversité alpha de chaque parcelle à chaque mois\n",
        "alpha_biodiversity = {\"conventionnelle\": [], \"biologique\": [], \"biodynamie\": [], \"permaculture\": []}\n",
        "\n",
        "for month in range(months):\n",
        "    for parcelle in biodiversity_data.keys():\n",
        "        initial_population = int(initial_biodiversity[parcelle])\n",
        "        if parcelle == \"conventionnelle\":\n",
        "            initial_population = int(initial_population * (1 - decline_rate) ** month)\n",
        "        elif parcelle == \"biologique\":\n",
        "            # Générez un taux de légère augmentation aléatoire chaque mois\n",
        "            random_increase_rate = random.uniform(increase_rate - 0.003, increase_rate + 0.001)\n",
        "            initial_population = int(initial_population * (1 + random_increase_rate) ** month)\n",
        "        elif parcelle == \"biodynamie\":\n",
        "            # Générez un taux de légère augmentation aléatoire chaque mois\n",
        "            random_increase_rate = random.uniform(increase_rate - 0.0003, increase_rate + 0.003)\n",
        "            initial_population = int(initial_population * (1 + random_increase_rate) ** month)\n",
        "        elif parcelle == \"permaculture\":\n",
        "            initial_population = int(initial_population * (1 + strong_increase_rate) ** month)\n",
        "\n",
        "        organisms = random.sample(selected_protist + selected_fungi + selected_bacteria, initial_population)\n",
        "        biodiversity_data[parcelle].append(len(organisms))\n",
        "        species_data[parcelle].append([organism.description for organism in organisms])\n",
        "\n",
        "        # Calcul de la biodiversité alpha pour chaque parcelle\n",
        "        unique_species = set([organism.description for organism in organisms])\n",
        "        alpha_biodiversity[parcelle].append(len(unique_species))\n",
        "\n",
        "# Calcul de la biodiversité gamma à la fin de l'expérience\n",
        "all_species = set()\n",
        "for parcelle in biodiversity_data.keys():\n",
        "    all_species.update(species_data[parcelle][-1])\n",
        "gamma_biodiversity = len(all_species)\n",
        "\n",
        "# Créer un DataFrame Pandas pour stocker la biodiversité alpha\n",
        "alpha_biodiversity_df = pd.DataFrame(alpha_biodiversity)\n",
        "\n",
        "# Écrire les données dans un fichier Excel\n",
        "with pd.ExcelWriter(\"biodiversity_simulation.xlsx\", engine=\"openpyxl\", mode=\"w\") as writer:\n",
        "    biodiversity_df = pd.DataFrame(biodiversity_data)  # Mettez à jour biodiversity_df avec les bonnes données\n",
        "    biodiversity_df.to_excel(writer, sheet_name=\"Biodiversité\", index=False)\n",
        "    species_df = pd.DataFrame(species_data)  # Mettez à jour species_df avec les bonnes données\n",
        "    species_df.to_excel(writer, sheet_name=\"Espèces\", index=False)\n",
        "    alpha_biodiversity_df.to_excel(writer, sheet_name=\"Biodiversité Alpha\", index=False)\n",
        "\n",
        "# Générer un graphique pour l'évolution de la biodiversité\n",
        "plt.figure(figsize=(10, 6))\n",
        "for parcelle, data in biodiversity_data.items():\n",
        "    plt.plot(range(months), data, label=parcelle)\n",
        "\n",
        "plt.xlabel(\"Mois\")\n",
        "plt.ylabel(\"Biodiversité\")\n",
        "plt.legend()\n",
        "plt.title(\"Évolution de la biodiversité dans les parcelles\")\n",
        "plt.savefig(\"biodiversity_plot.png\")\n",
        "\n",
        "# Afficher la biodiversité gamma à la fin de l'expérience\n",
        "print(f\"Biodiversité gamma à la fin de l'expérience : {gamma_biodiversity}\")\n",
        "\n",
        "print(\"Les données de biodiversité, d'espèces et de biodiversité alpha ont été enregistrées dans biodiversity_simulation.xlsx.\")\n"
      ],
      "metadata": {
        "colab": {
          "base_uri": "https://localhost:8080/",
          "height": 602
        },
        "id": "31EUm-KOenEI",
        "outputId": "d3e57f2c-08aa-4f7e-954e-4f60e9515271"
      },
      "execution_count": null,
      "outputs": [
        {
          "output_type": "stream",
          "name": "stdout",
          "text": [
            "Biodiversité gamma à la fin de l'expérience : 214\n",
            "Les données de biodiversité, d'espèces et de biodiversité alpha ont été enregistrées dans biodiversity_simulation.xlsx.\n"
          ]
        },
        {
          "output_type": "display_data",
          "data": {
            "text/plain": [
              "<Figure size 1000x600 with 1 Axes>"
            ],
            "image/png": "[encoded data removed]"
          },
          "metadata": {}
        }
      ]
    },
    {
      "cell_type": "markdown",
      "metadata": {
        "id": "0FnhMlodTPT9"
      },
      "source": [
        "Les cellules suivantes sont des tests pas concluants"
      ]
    },
    {
      "cell_type": "code",
      "execution_count": null,
      "metadata": {
        "id": "MRatGrjrSHKM"
      },
      "outputs": [],
      "source": [
        "#Tentative de cluster analysis pas concluante\n",
        "\n",
        "\n",
        "sequences = []\n",
        "descriptions = []\n",
        "for record in SeqIO.parse(\"test_prot.fasta\", \"fasta\"):\n",
        "    descriptions.append(record.description)\n",
        "    sequences.append(str(record.seq))\n",
        "\n",
        "\n",
        "def jaccard_similarity(seq1, seq2):\n",
        "    set1 = set(seq1)\n",
        "    set2 = set(seq2)\n",
        "    intersection = len(set1.intersection(set2))\n",
        "    union = len(set1) + len(set2) - intersection\n",
        "    return intersection / union\n",
        "\n",
        "\n",
        "num_sequences = len(sequences)\n",
        "similarity_matrix = np.zeros((num_sequences, num_sequences))\n",
        "for i in range(num_sequences):\n",
        "    for j in range(i, num_sequences):\n",
        "        similarity_matrix[i, j] = jaccard_similarity(sequences[i], sequences[j])\n",
        "        similarity_matrix[j, i] = similarity_matrix[i, j]\n",
        "\n",
        "\n",
        "linkage_matrix = linkage(similarity_matrix, method='average')\n",
        "threshold = 0.99\n",
        "clusters = fcluster(linkage_matrix, threshold, criterion='distance')\n",
        "\n",
        "\n",
        "cluster_dict = {}\n",
        "for i, cluster_id in enumerate(clusters):\n",
        "    if cluster_id not in cluster_dict:\n",
        "        cluster_dict[cluster_id] = []\n",
        "    cluster_dict[cluster_id].append((descriptions[i], sequences[i]))\n",
        "\n",
        "for cluster_id, cluster_data in cluster_dict.items():\n",
        "    print(f\"Cluster {cluster_id}:\")\n",
        "    for description, sequence in cluster_data:\n",
        "        print(f\"{description}\\n{sequence}\\n\")"
      ]
    }
  ],
  "metadata": {
    "colab": {
      "provenance": []
    },
    "kernelspec": {
      "display_name": "Python 3",
      "name": "python3"
    },
    "language_info": {
      "name": "python"
    }
  },
  "nbformat": 4,
  "nbformat_minor": 0
}